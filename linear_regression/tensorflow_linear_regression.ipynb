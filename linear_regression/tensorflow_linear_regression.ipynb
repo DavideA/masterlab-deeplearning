{
  "nbformat": 4,
  "nbformat_minor": 0,
  "metadata": {
    "colab": {
      "name": "Untitled1.ipynb",
      "version": "0.3.2",
      "views": {},
      "default_view": {},
      "provenance": [],
      "collapsed_sections": []
    },
    "kernelspec": {
      "name": "python2",
      "display_name": "Python 2"
    },
    "accelerator": "GPU"
  },
  "cells": [
    {
      "metadata": {
        "id": "EP8SF4-UlxuG",
        "colab_type": "text"
      },
      "cell_type": "markdown",
      "source": [
        "Install useful packages."
      ]
    },
    {
      "metadata": {
        "id": "ERo8D4pYlcaX",
        "colab_type": "code",
        "colab": {
          "autoexec": {
            "startup": false,
            "wait_interval": 0
          }
        }
      },
      "cell_type": "code",
      "source": [
        "!pip install googledrivedownloader"
      ],
      "execution_count": 0,
      "outputs": []
    },
    {
      "metadata": {
        "id": "ZqTjboJ9l6B1",
        "colab_type": "text"
      },
      "cell_type": "markdown",
      "source": [
        "Import proper packages."
      ]
    },
    {
      "metadata": {
        "id": "f7F2fKeHl13V",
        "colab_type": "code",
        "colab": {
          "autoexec": {
            "startup": false,
            "wait_interval": 0
          }
        }
      },
      "cell_type": "code",
      "source": [
        "import csv\n",
        "import numpy as np\n",
        "import tensorflow as tf\n",
        "import matplotlib.pyplot as plt\n",
        "from google_drive_downloader import GoogleDriveDownloader\n"
      ],
      "execution_count": 0,
      "outputs": []
    },
    {
      "metadata": {
        "id": "OGXOHYjYmHvs",
        "colab_type": "text"
      },
      "cell_type": "markdown",
      "source": [
        "This snippets simply downloads and defines the function to load the dataset."
      ]
    },
    {
      "metadata": {
        "id": "WPF4tUldl77F",
        "colab_type": "code",
        "colab": {
          "autoexec": {
            "startup": false,
            "wait_interval": 0
          }
        }
      },
      "cell_type": "code",
      "source": [
        "GoogleDriveDownloader.download_file_from_google_drive(file_id='1EOYhZJxdOBi81qICtmYpqKYzDlbb_Pmm',\n",
        "                                                      dest_path='./brain_body_weight.zip',\n",
        "                                                      overwrite=True,\n",
        "                                                      unzip=True)\n",
        "\n",
        "def get_brain_body_data(csv_file):\n",
        "    \"\"\"\n",
        "    Load brain - weight data to test linear regression.\n",
        "\n",
        "    The data records the average weight of the brain and body for a number of mammal species.\n",
        "    More details here: http://people.sc.fsu.edu/~jburkardt/datasets/regression/x01.txt\n",
        "\n",
        "    Parameters\n",
        "    ----------\n",
        "    csv_file : basestring\n",
        "        path of csv file containing data\n",
        "\n",
        "    Returns\n",
        "    -------\n",
        "    body_weight, brain_weight : lists\n",
        "        list of body and brain weight\n",
        "    \"\"\"\n",
        "    body_weight = []\n",
        "    brain_weight = []\n",
        "\n",
        "    with open(csv_file, 'rt') as file:\n",
        "        csv_reader = csv.reader(file)\n",
        "\n",
        "        for row in csv_reader:\n",
        "            if row:\n",
        "                idx, brain_w, body_w = row[0].split()\n",
        "                brain_weight.append(float(brain_w))\n",
        "                body_weight.append(float(body_w))\n",
        "\n",
        "    return body_weight, brain_weight"
      ],
      "execution_count": 0,
      "outputs": []
    },
    {
      "metadata": {
        "id": "oou6t4DgmTv0",
        "colab_type": "text"
      },
      "cell_type": "markdown",
      "source": [
        "Actually read the dataset."
      ]
    },
    {
      "metadata": {
        "id": "v6dnWl4CmOrF",
        "colab_type": "code",
        "colab": {
          "autoexec": {
            "startup": false,
            "wait_interval": 0
          }
        }
      },
      "cell_type": "code",
      "source": [
        "# Read data\n",
        "body_weight, brain_weight = get_brain_body_data('./brain_body_weight.txt')\n",
        "n_samples = len(body_weight)\n",
        "print('Number of training examples: {}'.format(n_samples))"
      ],
      "execution_count": 0,
      "outputs": []
    },
    {
      "metadata": {
        "id": "_Dk56YccmcNd",
        "colab_type": "text"
      },
      "cell_type": "markdown",
      "source": [
        "Define the placeholders for the input and the target variable."
      ]
    },
    {
      "metadata": {
        "id": "TX-9e8gZmgi0",
        "colab_type": "code",
        "colab": {
          "autoexec": {
            "startup": false,
            "wait_interval": 0
          }
        }
      },
      "cell_type": "code",
      "source": [
        "# Define placeholders (1-d)\n",
        "x = ...\n",
        "y = ..."
      ],
      "execution_count": 0,
      "outputs": []
    },
    {
      "metadata": {
        "id": "wbKAtH6vmlJj",
        "colab_type": "text"
      },
      "cell_type": "markdown",
      "source": [
        "Define the variables to be learned by gradient descent. Remember this is a linear regression."
      ]
    },
    {
      "metadata": {
        "id": "z39mFhvOmy90",
        "colab_type": "code",
        "colab": {
          "autoexec": {
            "startup": false,
            "wait_interval": 0
          }
        }
      },
      "cell_type": "code",
      "source": [
        "# Define variables\n",
        "w = ...\n",
        "b = ..."
      ],
      "execution_count": 0,
      "outputs": []
    },
    {
      "metadata": {
        "id": "QYHqLLYim5G2",
        "colab_type": "text"
      },
      "cell_type": "markdown",
      "source": [
        "Define the linear regression model (the output as function of the input)."
      ]
    },
    {
      "metadata": {
        "id": "C6fzNODgm3oM",
        "colab_type": "code",
        "colab": {
          "autoexec": {
            "startup": false,
            "wait_interval": 0
          }
        }
      },
      "cell_type": "code",
      "source": [
        "# Linear regression model\n",
        "y_pred = ..."
      ],
      "execution_count": 0,
      "outputs": []
    },
    {
      "metadata": {
        "id": "XXjX1LS4nBOt",
        "colab_type": "text"
      },
      "cell_type": "markdown",
      "source": [
        "Define a mean square error as the objective function."
      ]
    },
    {
      "metadata": {
        "id": "xtTGCRdJnEh9",
        "colab_type": "code",
        "colab": {
          "autoexec": {
            "startup": false,
            "wait_interval": 0
          }
        }
      },
      "cell_type": "code",
      "source": [
        "# Define objective function\n",
        "loss = ..."
      ],
      "execution_count": 0,
      "outputs": []
    },
    {
      "metadata": {
        "id": "af6l4PGxnITc",
        "colab_type": "text"
      },
      "cell_type": "markdown",
      "source": [
        "Define a gradient descent optimizer.\n",
        "Define one step of the training process as a tensorflow operation."
      ]
    },
    {
      "metadata": {
        "id": "uO4g_RRSnKx8",
        "colab_type": "code",
        "colab": {
          "autoexec": {
            "startup": false,
            "wait_interval": 0
          }
        }
      },
      "cell_type": "code",
      "source": [
        "# Define optimizer\n",
        "optimizer = ...\n",
        "\n",
        "# Define one training iteration\n",
        "train_step = ..."
      ],
      "execution_count": 0,
      "outputs": []
    },
    {
      "metadata": {
        "id": "24kQ65anncJE",
        "colab_type": "text"
      },
      "cell_type": "markdown",
      "source": [
        "Actual training loop."
      ]
    },
    {
      "metadata": {
        "id": "KgWdIIjlnd9M",
        "colab_type": "code",
        "colab": {
          "autoexec": {
            "startup": false,
            "wait_interval": 0
          }
        }
      },
      "cell_type": "code",
      "source": [
        "with tf.Session() as sess:\n",
        "\n",
        "    # Initialize all variables\n",
        "    sess.run(tf.global_variables_initializer())\n",
        "\n",
        "    for i in range(100):\n",
        "        total_loss = 0\n",
        "        for bo_w, br_w in zip(body_weight, brain_weight):\n",
        "            # Session runs train_op and fetch values of loss\n",
        "            ...\n",
        "            total_loss += l\n",
        "        print('Epoch {0}: {1}'.format(i, total_loss / n_samples))\n",
        "\n",
        "        # Plot current results\n",
        "        plt.cla()  # clear axis first\n",
        "        w_value, b_value = sess.run([w, b])  # get current numeric solutions\n",
        "        plt.plot(body_weight, brain_weight, 'bo', label='Real data')\n",
        "        plt.plot(np.arange(0, int(max(body_weight))),\n",
        "                 np.arange(0, int(max(body_weight))) * w_value + b_value,\n",
        "                 'r', label='Predicted data')\n",
        "        plt.pause(0.5)\n"
      ],
      "execution_count": 0,
      "outputs": []
    }
  ]
}